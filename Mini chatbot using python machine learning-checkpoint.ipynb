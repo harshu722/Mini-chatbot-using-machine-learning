{
 "cells": [
  {
   "cell_type": "code",
   "execution_count": null,
   "id": "90adcb4e",
   "metadata": {},
   "outputs": [
    {
     "name": "stdout",
     "output_type": "stream",
     "text": [
      "Welcome! How can I assist you today?\n",
      "help me \n",
      "Sure, how can I help you today?\n",
      "tell me how to learn german \n",
      "I'm sorry, I don't understand.\n",
      "bye\n",
      "Goodbye, have a nice day!\n",
      "help\n",
      "Sure, how can I help you today?\n",
      "weather now?\n",
      "I'm sorry, I don't understand.\n",
      "what is the weather now\n",
      "I'm sorry, I don't understand.\n",
      "what is the time \n",
      "I'm sorry, I don't understand.\n"
     ]
    }
   ],
   "source": [
    "import random\n",
    "\n",
    "\n",
    "def generate_response(user_input):\n",
    "    user_input = user_input.lower()\n",
    "    \n",
    "    \n",
    "    if 'hello' in user_input or 'hi' in user_input:\n",
    "        return \"Hello! How can I assist you today?\"\n",
    "    elif 'help' in user_input or 'support' in user_input:\n",
    "        return \"Sure, how can I help you today?\"\n",
    "    elif 'bye' in user_input or 'goodbye' in user_input:\n",
    "        return \"Goodbye, have a nice day!\"\n",
    "    elif 'thanks' in user_input or 'thank you' in user_input:\n",
    "        return \"You're welcome!\"\n",
    "    else:\n",
    "        return \"I'm sorry, I don't understand.\"\n",
    "\n",
    "\n",
    "def main():\n",
    "    print('Welcome! How can I assist you today?')\n",
    "    while True:\n",
    "        user_input = input()\n",
    "        if user_input.lower() == 'quit':\n",
    "            break\n",
    "        else:\n",
    "            print(generate_response(user_input))\n",
    "\n",
    "if __name__ == '__main__':\n",
    "    main()\n"
   ]
  },
  {
   "cell_type": "code",
   "execution_count": null,
   "id": "a81a25ca",
   "metadata": {},
   "outputs": [],
   "source": []
  }
 ],
 "metadata": {
  "kernelspec": {
   "display_name": "Python 3 (ipykernel)",
   "language": "python",
   "name": "python3"
  },
  "language_info": {
   "codemirror_mode": {
    "name": "ipython",
    "version": 3
   },
   "file_extension": ".py",
   "mimetype": "text/x-python",
   "name": "python",
   "nbconvert_exporter": "python",
   "pygments_lexer": "ipython3",
   "version": "3.9.13"
  }
 },
 "nbformat": 4,
 "nbformat_minor": 5
}
